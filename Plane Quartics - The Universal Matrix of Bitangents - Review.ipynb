{
 "cells": [
  {
   "cell_type": "code",
   "execution_count": 1,
   "metadata": {
    "collapsed": true
   },
   "outputs": [],
   "source": [
    "# execute the following to make the below code work outside of Sage\n",
    "# if using Sage, do not execute this block\n",
    "import numpy\n",
    "exp = numpy.exp\n",
    "pi = numpy.pi\n",
    "I = 1.0j\n",
    "numerical_approx = lambda x: x"
   ]
  },
  {
   "cell_type": "markdown",
   "metadata": {},
   "source": [
    "# The Original Code\n",
    "\n",
    "As it appears in the paper. Note that <u>**as-is it does not execute**</u> due to carriage returns, formatting, etc."
   ]
  },
  {
   "cell_type": "code",
   "execution_count": 2,
   "metadata": {
    "collapsed": false
   },
   "outputs": [
    {
     "ename": "SyntaxError",
     "evalue": "invalid syntax (<ipython-input-2-578fd1b5909d>, line 63)",
     "output_type": "error",
     "traceback": [
      "\u001b[0;36m  File \u001b[0;32m\"<ipython-input-2-578fd1b5909d>\"\u001b[0;36m, line \u001b[0;32m63\u001b[0m\n\u001b[0;31m    def jdet(m1,m2,m3,om): return djRT(m1,om,0)*djRT(m2,om,1)*djRT(m3,om,2)+djRT(m2,om,0)*djRT(m3,om,1)*djRT(m1,om,2)+\u001b[0m\n\u001b[0m                                                                                                                      ^\u001b[0m\n\u001b[0;31mSyntaxError\u001b[0m\u001b[0;31m:\u001b[0m invalid syntax\n"
     ]
    }
   ],
   "source": [
    "# Packages needed.\n",
    "import sympy;\n",
    "from sympy.abc import x,y;\n",
    "from abelfunctions import *;\n",
    "import numpy;\n",
    "import numpy.linalg;\n",
    "numpy.set_printoptions(precision=6);\n",
    "from sympy.abc import a,b,c;\n",
    "\n",
    "# Definition of even characteristics with binary code\n",
    "# For example m17=[[0,0,1],[1,1,1]].\n",
    "# Namely 0*2^2+0*2^1+1*2^0=1\n",
    "# and 1*2^2+1*2^1+1*2^0=7.\n",
    "\n",
    "m11=numpy.array([[0,0,1],[0,0,1]]);\n",
    "m13=numpy.array([[0,0,1],[0,1,1]]);\n",
    "m15=numpy.array([[0,0,1],[1,0,1]]);\n",
    "m17=numpy.array([[0,0,1],[1,1,1]]);\n",
    "m22=numpy.array([[0,1,0],[0,1,0]]);\n",
    "m23=numpy.array([[0,1,0],[0,1,1]]);\n",
    "m27=numpy.array([[0,1,0],[1,1,1]]);\n",
    "m26=numpy.array([[0,1,0],[1,1,0]]);\n",
    "m31=numpy.array([[0,1,1],[0,0,1]]);\n",
    "m32=numpy.array([[0,1,1],[0,1,0]]);\n",
    "m35=numpy.array([[0,1,1],[1,0,1]]);\n",
    "m36=numpy.array([[0,1,1],[1,1,0]]);\n",
    "m44=numpy.array([[1,0,0],[1,0,0]]);\n",
    "m45=numpy.array([[1,0,0],[1,0,1]]);\n",
    "m46=numpy.array([[1,0,0],[1,1,0]]);\n",
    "m47=numpy.array([[1,0,0],[1,1,1]]);\n",
    "m51=numpy.array([[1,0,1],[0,0,1]]);\n",
    "m53=numpy.array([[1,0,1],[0,1,1]]);\n",
    "m54=numpy.array([[1,0,1],[1,0,0]]);\n",
    "m56=numpy.array([[1,0,1],[1,1,0]]);\n",
    "m62=numpy.array([[1,1,0],[0,1,0]]);\n",
    "m63=numpy.array([[1,1,0],[0,1,1]]);\n",
    "m64=numpy.array([[1,1,0],[1,0,0]]);\n",
    "m65=numpy.array([[1,1,0],[1,0,1]]);\n",
    "m71=numpy.array([[1,1,1],[0,0,1]]);\n",
    "m72=numpy.array([[1,1,1],[0,1,0]]);\n",
    "m74=numpy.array([[1,1,1],[1,0,0]]);\n",
    "m77=numpy.array([[1,1,1],[1,1,1]]);\n",
    "\n",
    "# Vector of the directions of the partial derivative.\n",
    "\n",
    "v=numpy.array([[[1,0,0]],[[0,1,0]],[[0,0,1]]]);\n",
    "\n",
    "# Function computing a Riemann Theta constant with characteristic m and Riemann matrix t.\n",
    "\n",
    "def RT(m,t): return numerical_approx(exp(pi*I*(numpy.dot(0.5*m[0],numpy.dot(t,0.5*m[0]))+2*numpy.dot(0.5*m[0],\n",
    "0.5*m[1])))*RiemannTheta(numpy.dot(t,0.5*m[0])+0.5*m[1],t));\n",
    "\n",
    "# Function computing the partial derivative with respect to z_j of the Riemann Theta function with characteristic m,\n",
    "# evaluated at a Riemann matrix t and  z=(0,0,0).\n",
    "\n",
    "def djRT(m,t,j): return numerical_approx(exp(pi*I*(numpy.dot(0.5*m[0],numpy.dot(t,0.5*m[0]))+2*numpy.dot(0.5*m[0],\n",
    "0.5*m[1])))*(RiemannTheta(numpy.dot(t,0.5*m[0])+0.5*m[1],t,deriv=v[j])\n",
    "+pi*I*m[0,j]*RiemannTheta(numpy.dot(t,0.5*m[0])+0.5*m[1],t)));\n",
    "\n",
    "# Function to computing the Jacobian determinant associated with the three odd characteristics\n",
    "# m1, m2 and m3 and Riemann matrix om.\n",
    "\n",
    "def jdet(m1,m2,m3,om): return djRT(m1,om,0)*djRT(m2,om,1)*djRT(m3,om,2)+djRT(m2,om,0)*djRT(m3,om,1)*djRT(m1,om,2)+\n",
    "djRT(m3,om,0)*djRT(m1,om,1)*djRT(m2,om,2)-djRT(m1,om,2)*djRT(m2,om,1)*djRT(m3,om,0)-\n",
    "djRT(m1,om,1)*djRT(m2,om,0)*djRT(m3,om,2)-djRT(m1,om,0)*djRT(m2,om,2)*djRT(m3,om,1);\n",
    "\n",
    "# Function computing the bitangent associated with the odd characteristic bb and Riemann matrix om.\n",
    "\n",
    "# The variable a stands for z_1, b for z_2 and c for z_3.\n",
    "\n",
    "def bit(bb,om): return djRT(bb,om,0)*a+djRT(bb,om,1)*b+djRT(bb,om,2)*c;\n",
    "\n",
    "# Examples of quartics whose bitangent matrices we want to compute.\n",
    "\n",
    "f=y**4+x**4+1;\n",
    "\n",
    "# Define the Riemann surface X described by the equation f=0.\n",
    "\n",
    "X = RiemannSurface(f,x,y);\n",
    "\n",
    "# Compute the genus of X.\n",
    "\n",
    "print X.genus();\n",
    "\n",
    "# Compute the Riemann matrix of X.\n",
    "\n",
    "Omega = X.riemann_matrix();\n",
    "\n",
    "# Alternatively we can directly use the Riemann matrix as input.\n",
    "\n",
    "# Omega=numpy.array([[-0.25+0.661438j,  0.25+0.661438j, -0.25-0.661438j],\n",
    "# [ 0.25+0.661438j,  0.50+1.322876j, -0.25-0.661438j],\n",
    "# [-0.25-0.661438j, -0.25-0.661438j, -0.50+1.322876j]],dtype=complex)\n",
    "\n",
    "# Definitions of the constants A, B and C, as in Section 6.\n",
    "A=jdet(m77,m46,m51,Omega)*jdet(m31,m13,m26,Omega)*jdet(m77,m54,m26,Omega)\n",
    "/(jdet(m77,m31,m26,Omega)*jdet(m77,m23,m51,Omega)*jdet(m54,m13,m26,Omega));\n",
    "B=jdet(m77,m46,m51,Omega)*jdet(m77,m62,m26,Omega)*jdet(m31,m13,m26,Omega)\n",
    "/(jdet(m77,m31,m26,Omega)*jdet(m62,m13,m26,Omega)*jdet(m77,m15,m51,Omega));\n",
    "C=jdet(m77,m46,m51,Omega)*jdet(m31,m13,m26,Omega)*jdet(m77,m45,m26,Omega)\n",
    "/(jdet(m77,m31,m26,Omega)*jdet(m77,m32,m51,Omega)*jdet(m45,m13,m26,Omega));\n",
    "\n",
    "# Function computing the 8x8 bitangent matrix L associated with the Riemann matrix om.\n",
    "\n",
    "def L(om): return [[0,jdet(m31,m13,m26,om)*bit(m77,om),jdet(m22,m13,m35,om)*bit(m64,om),jdet(m77,m64,m46,om)*\n",
    "bit(m51,om),jdet(m77,m64,m51,om)*bit(m46,om),jdet(m77,m64,m51,om)*bit(m23,om),jdet(m77,m64,m51,om)*\n",
    "bit(m15,om),jdet(m77,m64,m51,om)*bit(m32,om)],\n",
    "[jdet(m31,m13,m26,om)*bit(m77,om),0,(jdet(m22,m13,m35,om)*jdet(m77,m31,m26,om)/jdet(m77,m46,m51,om))*\n",
    "bit(m13,om),jdet(m77,m13,m31,om)*bit(m26,om),jdet(m77,m13,m26,om)*bit(m31,om),(jdet(m31,m13,m26,om)*\n",
    "jdet(m77,m13,m26,om)/(A*jdet(m54,m13,m26,om)))*bit(m54,om),(jdet(m31,m13,m26,om)*jdet(m77,m13,m26,om)/\n",
    "(B*jdet(m62,m13,m26,om)))*bit(m62,om),(jdet(m31,m13,m26,om)*jdet(m77,m13,m26,om)/\n",
    "(C*jdet(m45,m13,m26,om)))*bit(m45,om)],\n",
    "[jdet(m22,m13,m35,om)*bit(m64,om),(jdet(m22,m13,m35,om)*jdet(m77,m31,m26,om)/jdet(m77,m46,m51,om))*\n",
    "bit(m13,om),0,jdet(m64,m13,m22,om)*bit(m35,om),jdet(m64,m13,m35,om)*bit(m22,om),(jdet(m22,m13,m35,om)*\n",
    "jdet(m64,m13,m35,om)/(A*jdet(m47,m13,m35,om)))*bit(m47,om),(jdet(m22,m13,m35,om)*jdet(m64,m13,m35,om)/\n",
    "(B*jdet(m71,m13,m35,om)))*bit(m71,om),(jdet(m22,m13,m35,om)*jdet(m64,m13,m35,om)/\n",
    "(C*jdet(m56,m13,m35,om)))*bit(m56,om)],\n",
    "[jdet(m77,m64,m46,om)*bit(m51,om),jdet(m77,m13,m31,om)*bit(m26,om),jdet(m64,m13,m22,om)*bit(m35,om),0,\n",
    "(jdet(m77,m64,m46,om)*jdet(m51,m26,m35,om)/jdet(m17,m26,m35,om))*bit(m17,om),(jdet(m77,m64,m46,om)*\n",
    "jdet(m51,m26,m35,om)/(A*jdet(m72,m26,m35,om)))*bit(m72,om),(jdet(m77,m64,m46,om)*jdet(m51,m26,m35,om)/\n",
    "(B*jdet(m44,m26,m35,om)))*bit(m44,om),(jdet(m77,m64,m46,om)*jdet(m51,m26,m35,om)/\n",
    "(C*jdet(m63,m26,m35,om)))*bit(m63,om)],\n",
    "[jdet(m77,m64,m51,om)*bit(m46,om),jdet(m77,m13,m26,om)*bit(m31,om),jdet(m64,m13,m35,om)*bit(m22,om),\n",
    "(jdet(m77,m64,m46,om)*jdet(m51,m26,m35,om)/jdet(m17,m26,m35,om))*bit(m17,om),0,(A*jdet(m77,m23,m51,om)-\n",
    "jdet(m77,m46,m51,om))*(jdet(m22,m31,m17,om)*jdet(m64,m13,m35,om)/(A*jdet(m65,m31,m17,om)*\n",
    "jdet(m22,m13,m35,om)))*bit(m65,om),(B*jdet(m77,m15,m51,om)-jdet(m77,m46,m51,om))*(jdet(m22,m31,m17,om)*\n",
    "jdet(m64,m13,m35,om)/(B*jdet(m53,m31,m17,om)*jdet(m22,m13,m35,om)))*bit(m53,om),(1-C*(jdet(m77,m64,m32,om)/\n",
    "jdet(m77,m64,m46,om)))*(jdet(m77,m64,m51,om)*jdet(m46,m31,m22,om)/(C*jdet(m74,m31,m22,om)))*bit(m74,om)],\n",
    "[jdet(m77,m64,m51,om)*bit(m23,om),(jdet(m31,m13,m26,om)*jdet(m77,m13,m26,om)/(A*jdet(m54,m13,m26,om)))*\n",
    "bit(m54,om),(jdet(m22,m13,m35,om)*jdet(m64,m13,m35,om)/(A*jdet(m47,m13,m35,om)))*bit(m47,om),\n",
    "(jdet(m77,m64,m46,om)*jdet(m51,m26,m35,om)/(A*jdet(m72,m26,m35,om)))*bit(m72,om),(A*jdet(m77,m23,m51,om)-\n",
    "jdet(m77,m46,m51,om))*(jdet(m22,m31,m17,om)*jdet(m64,m13,m35,om)/(A*jdet(m65,m31,m17,om)*\n",
    "jdet(m22,m13,m35,om)))*bit(m65,om),0,(1-(jdet(m54,m13,m26,om)*jdet(m77,m23,m51,om)*jdet(m15,m64,m51,om)*\n",
    "jdet(m77,m62,m26,om)/jdet(m23,m64,m51,om)*jdet(m77,m54,m26,om)*jdet(m77,m15,m51,om)*\n",
    "jdet(m62,m13,m26,om)))*(jdet(m77,m64,m51,om)*jdet(m23,m47,m72,om)/(B*jdet(m36,m47,m72,om)))*\n",
    "bit(m36,om),(1/C-(jdet(m77,m64,m32,om)/(A*jdet(m77,m64,m23,om))))*(jdet(m23,m54,m47,om)*\n",
    "jdet(m77,m64,m51,om)/(jdet(m11,m54,m47,om)))*bit(m11,om)],\n",
    "[jdet(m77,m64,m51,om)*bit(m15,om),(jdet(m31,m13,m26,om)*jdet(m77,m13,m26,om)/(B*jdet(m62,m13,m26,om)))*\n",
    "bit(m62,om),(jdet(m22,m13,m35,om)*jdet(m64,m13,m35,om)/(B*jdet(m71,m13,m35,om)))*bit(m71,om),\n",
    "(jdet(m77,m64,m46,om)*jdet(m51,m26,m35,om)/(B*jdet(m44,m26,m35,om)))*bit(m44,om),\n",
    "(B*jdet(m77,m15,m51,om)-jdet(m77,m46,m51,om))*(jdet(m22,m31,m17,om)*jdet(m64,m13,m35,om)/\n",
    "(B*jdet(m53,m31,m17,om)*jdet(m22,m13,m35,om)))*bit(m53,om),(1-(jdet(m54,m13,m26,om)*jdet(m77,m23,m51,om)*\n",
    "jdet(m15,m64,m51,om)*jdet(m77,m62,m26,om)/jdet(m23,m64,m51,om)*jdet(m77,m54,m26,om)*\n",
    "jdet(m77,m15,m51,om)*jdet(m62,m13,m26,om)))*(jdet(m77,m64,m51,om)*jdet(m23,m47,m72,om)/\n",
    "(B*jdet(m36,m47,m72,om)))*bit(m36,om),0,(1/C-(jdet(m77,m64,m32,om)/(B*jdet(m77,m64,m15,om))))*\n",
    "(jdet(m15,m62,m71,om)*jdet(m77,m64,m51,om)/(jdet(m27,m62,m71,om)))*bit(m27,om)],\n",
    "[jdet(m77,m64,m51,om)*bit(m32,om),(jdet(m31,m13,m26,om)*jdet(m77,m13,m26,om)/(C*jdet(m45,m13,m26,om)))*\n",
    "bit(m45,om),(jdet(m22,m13,m35,om)*jdet(m64,m13,m35,om)/(C*jdet(m56,m13,m35,om)))*bit(m56,om),\n",
    "(jdet(m77,m64,m46,om)*jdet(m51,m26,m35,om)/(C*jdet(m63,m26,m35,om)))*bit(m63,om),\n",
    "(1-C*(jdet(m77,m64,m32,om)/jdet(m77,m64,m46,om)))*(jdet(m77,m64,m51,om)*jdet(m46,m31,m22,om)/\n",
    "(C*jdet(m74,m31,m22,om)))*bit(m74,om),(1/C-(jdet(m77,m64,m32,om)/(A*jdet(m77,m64,m23,om))))*\n",
    "(jdet(m23,m54,m47,om)*jdet(m77,m64,m51,om)/(jdet(m11,m54,m47,om)))*bit(m11,om),(1/C-(jdet(m77,m64,m32,om)/\n",
    "(B*jdet(m77,m64,m15,om))))*(jdet(m15,m62,m71,om)*jdet(m77,m64,m51,om)/(jdet(m27,m62,m71,om)))*bit(m27,om),0]];\n",
    "\n",
    "# Function computing the 4x4 matrix Q associated with the Riemann matrix om.\n",
    "\n",
    "def Q(om): return [[0,(jdet(m31,m13,m26,om)/jdet(m77,m31,m26,om))*bit(m77,om),(jdet(m22,m13,m35,om)/\n",
    "jdet(m77,m31,m26,om))*bit(m64,om),(jdet(m77,m64,m46,om)/jdet(m77,m31,m26,om))*bit(m51,om)],\n",
    "[(jdet(m31,m13,m26,om)/jdet(m77,m31,m26,om))*bit(m77,om),0,(jdet(m22,m13,m35,om)/jdet(m77,m46,m51,om))*\n",
    "bit(m13,om),(jdet(m77,m13,m31,om)/jdet(m77,m31,m26,om))*bit(m26,om)],\n",
    "[(jdet(m22,m13,m35,om)/jdet(m77,m31,m26,om))*bit(m64,om),(jdet(m22,m13,m35,om)/jdet(m77,m46,m51,om))*\n",
    "bit(m13,om),0,(jdet(m64,m13,m22,om)/jdet(m77,m31,m26,om))*bit(m35,om)],\n",
    "[(jdet(m77,m64,m46,om)/jdet(m77,m31,m26,om))*bit(m51,om),(jdet(m77,m13,m31,om)/jdet(m77,m31,m26,om))*\n",
    "bit(m26,om),(jdet(m64,m13,m22,om)/jdet(m77,m31,m26,om))*bit(m35,om),0]];\n"
   ]
  },
  {
   "cell_type": "markdown",
   "metadata": {},
   "source": [
    "# Original Code - Adjusted\n",
    "\n",
    "Here, I do the minimum amount of work to make the above executable. This mostly means adding Python line continuation markers (\"`\\`\") to the end of several lines of code."
   ]
  },
  {
   "cell_type": "code",
   "execution_count": 3,
   "metadata": {
    "collapsed": false
   },
   "outputs": [
    {
     "name": "stdout",
     "output_type": "stream",
     "text": [
      "3\n"
     ]
    }
   ],
   "source": [
    "# Packages needed.\n",
    "import sympy;\n",
    "from sympy.abc import x,y;\n",
    "from abelfunctions import *;\n",
    "import numpy;\n",
    "import numpy.linalg;\n",
    "numpy.set_printoptions(precision=6);\n",
    "from sympy.abc import a,b,c;\n",
    "\n",
    "# Definition of even characteristics with binary code\n",
    "# For example m17=[[0,0,1],[1,1,1]].\n",
    "# Namely 0*2^2+0*2^1+1*2^0=1\n",
    "# and 1*2^2+1*2^1+1*2^0=7.\n",
    "\n",
    "m11=numpy.array([[0,0,1],[0,0,1]]);\n",
    "m13=numpy.array([[0,0,1],[0,1,1]]);\n",
    "m15=numpy.array([[0,0,1],[1,0,1]]);\n",
    "m17=numpy.array([[0,0,1],[1,1,1]]);\n",
    "m22=numpy.array([[0,1,0],[0,1,0]]);\n",
    "m23=numpy.array([[0,1,0],[0,1,1]]);\n",
    "m27=numpy.array([[0,1,0],[1,1,1]]);\n",
    "m26=numpy.array([[0,1,0],[1,1,0]]);\n",
    "m31=numpy.array([[0,1,1],[0,0,1]]);\n",
    "m32=numpy.array([[0,1,1],[0,1,0]]);\n",
    "m35=numpy.array([[0,1,1],[1,0,1]]);\n",
    "m36=numpy.array([[0,1,1],[1,1,0]]);\n",
    "m44=numpy.array([[1,0,0],[1,0,0]]);\n",
    "m45=numpy.array([[1,0,0],[1,0,1]]);\n",
    "m46=numpy.array([[1,0,0],[1,1,0]]);\n",
    "m47=numpy.array([[1,0,0],[1,1,1]]);\n",
    "m51=numpy.array([[1,0,1],[0,0,1]]);\n",
    "m53=numpy.array([[1,0,1],[0,1,1]]);\n",
    "m54=numpy.array([[1,0,1],[1,0,0]]);\n",
    "m56=numpy.array([[1,0,1],[1,1,0]]);\n",
    "m62=numpy.array([[1,1,0],[0,1,0]]);\n",
    "m63=numpy.array([[1,1,0],[0,1,1]]);\n",
    "m64=numpy.array([[1,1,0],[1,0,0]]);\n",
    "m65=numpy.array([[1,1,0],[1,0,1]]);\n",
    "m71=numpy.array([[1,1,1],[0,0,1]]);\n",
    "m72=numpy.array([[1,1,1],[0,1,0]]);\n",
    "m74=numpy.array([[1,1,1],[1,0,0]]);\n",
    "m77=numpy.array([[1,1,1],[1,1,1]]);\n",
    "\n",
    "# Vector of the directions of the partial derivative.\n",
    "\n",
    "v=numpy.array([[[1,0,0]],[[0,1,0]],[[0,0,1]]]);\n",
    "\n",
    "# Function computing a Riemann Theta constant with characteristic m and Riemann matrix t.\n",
    "\n",
    "def RT(m,t): return numerical_approx(exp(pi*I*(numpy.dot(0.5*m[0],numpy.dot(t,0.5*m[0]))+2*numpy.dot(0.5*m[0],\n",
    "0.5*m[1])))*RiemannTheta(numpy.dot(t,0.5*m[0])+0.5*m[1],t));\n",
    "\n",
    "# Function computing the partial derivative with respect to z_j of the Riemann Theta function with characteristic m,\n",
    "# evaluated at a Riemann matrix t and  z=(0,0,0).\n",
    "\n",
    "def djRT(m,t,j): return numerical_approx(exp(pi*I*(numpy.dot(0.5*m[0],numpy.dot(t,0.5*m[0]))+2*numpy.dot(0.5*m[0],\n",
    "0.5*m[1])))*(RiemannTheta(numpy.dot(t,0.5*m[0])+0.5*m[1],t,deriv=v[j])                                              \\\n",
    "+pi*I*m[0,j]*RiemannTheta(numpy.dot(t,0.5*m[0])+0.5*m[1],t)));\n",
    "\n",
    "# Function to computing the Jacobian determinant associated with the three odd characteristics\n",
    "# m1, m2 and m3 and Riemann matrix om.\n",
    "\n",
    "def jdet(m1,m2,m3,om): return djRT(m1,om,0)*djRT(m2,om,1)*djRT(m3,om,2)+djRT(m2,om,0)*djRT(m3,om,1)*djRT(m1,om,2)+  \\\n",
    "djRT(m3,om,0)*djRT(m1,om,1)*djRT(m2,om,2)-djRT(m1,om,2)*djRT(m2,om,1)*djRT(m3,om,0)-                                \\\n",
    "djRT(m1,om,1)*djRT(m2,om,0)*djRT(m3,om,2)-djRT(m1,om,0)*djRT(m2,om,2)*djRT(m3,om,1);\n",
    "\n",
    "# Function computing the bitangent associated with the odd characteristic bb and Riemann matrix om.\n",
    "\n",
    "# The variable a stands for z_1, b for z_2 and c for z_3.\n",
    "\n",
    "def bit(bb,om): return djRT(bb,om,0)*a+djRT(bb,om,1)*b+djRT(bb,om,2)*c;\n",
    "\n",
    "# Examples of quartics whose bitangent matrices we want to compute.\n",
    "\n",
    "f=y**4+x**4+1;\n",
    "\n",
    "# Define the Riemann surface X described by the equation f=0.\n",
    "\n",
    "X = RiemannSurface(f,x,y);\n",
    "\n",
    "# Compute the genus of X.\n",
    "\n",
    "print X.genus();\n",
    "\n",
    "# Compute the Riemann matrix of X.\n",
    "\n",
    "Omega = X.riemann_matrix();\n",
    "\n",
    "# Alternatively we can directly use the Riemann matrix as input.\n",
    "\n",
    "# Omega=numpy.array([[-0.25+0.661438j,  0.25+0.661438j, -0.25-0.661438j],\n",
    "# [ 0.25+0.661438j,  0.50+1.322876j, -0.25-0.661438j],\n",
    "# [-0.25-0.661438j, -0.25-0.661438j, -0.50+1.322876j]],dtype=complex)\n",
    "\n",
    "# Definitions of the constants A, B and C, as in Section 6.\n",
    "A=jdet(m77,m46,m51,Omega)*jdet(m31,m13,m26,Omega)*jdet(m77,m54,m26,Omega)                                     \\\n",
    "/(jdet(m77,m31,m26,Omega)*jdet(m77,m23,m51,Omega)*jdet(m54,m13,m26,Omega));\n",
    "B=jdet(m77,m46,m51,Omega)*jdet(m77,m62,m26,Omega)*jdet(m31,m13,m26,Omega)                                     \\\n",
    "/(jdet(m77,m31,m26,Omega)*jdet(m62,m13,m26,Omega)*jdet(m77,m15,m51,Omega));\n",
    "C=jdet(m77,m46,m51,Omega)*jdet(m31,m13,m26,Omega)*jdet(m77,m45,m26,Omega)                                     \\\n",
    "/(jdet(m77,m31,m26,Omega)*jdet(m77,m32,m51,Omega)*jdet(m45,m13,m26,Omega));\n",
    "\n",
    "# Function computing the 8x8 bitangent matrix L associated with the Riemann matrix om.\n",
    "\n",
    "def L(om): return [[0,jdet(m31,m13,m26,om)*bit(m77,om),jdet(m22,m13,m35,om)*bit(m64,om),jdet(m77,m64,m46,om)* \\\n",
    "bit(m51,om),jdet(m77,m64,m51,om)*bit(m46,om),jdet(m77,m64,m51,om)*bit(m23,om),jdet(m77,m64,m51,om)*           \\\n",
    "bit(m15,om),jdet(m77,m64,m51,om)*bit(m32,om)],\n",
    "[jdet(m31,m13,m26,om)*bit(m77,om),0,(jdet(m22,m13,m35,om)*jdet(m77,m31,m26,om)/jdet(m77,m46,m51,om))*         \\\n",
    "bit(m13,om),jdet(m77,m13,m31,om)*bit(m26,om),jdet(m77,m13,m26,om)*bit(m31,om),(jdet(m31,m13,m26,om)*          \\\n",
    "jdet(m77,m13,m26,om)/(A*jdet(m54,m13,m26,om)))*bit(m54,om),(jdet(m31,m13,m26,om)*jdet(m77,m13,m26,om)/\n",
    "(B*jdet(m62,m13,m26,om)))*bit(m62,om),(jdet(m31,m13,m26,om)*jdet(m77,m13,m26,om)/\n",
    "(C*jdet(m45,m13,m26,om)))*bit(m45,om)],\n",
    "[jdet(m22,m13,m35,om)*bit(m64,om),(jdet(m22,m13,m35,om)*jdet(m77,m31,m26,om)/jdet(m77,m46,m51,om))*           \\\n",
    "bit(m13,om),0,jdet(m64,m13,m22,om)*bit(m35,om),jdet(m64,m13,m35,om)*bit(m22,om),(jdet(m22,m13,m35,om)*        \\\n",
    "jdet(m64,m13,m35,om)/(A*jdet(m47,m13,m35,om)))*bit(m47,om),(jdet(m22,m13,m35,om)*jdet(m64,m13,m35,om)/        \\\n",
    "(B*jdet(m71,m13,m35,om)))*bit(m71,om),(jdet(m22,m13,m35,om)*jdet(m64,m13,m35,om)/                             \\\n",
    "(C*jdet(m56,m13,m35,om)))*bit(m56,om)],\n",
    "[jdet(m77,m64,m46,om)*bit(m51,om),jdet(m77,m13,m31,om)*bit(m26,om),jdet(m64,m13,m22,om)*bit(m35,om),0,\n",
    "(jdet(m77,m64,m46,om)*jdet(m51,m26,m35,om)/jdet(m17,m26,m35,om))*bit(m17,om),(jdet(m77,m64,m46,om)*           \\\n",
    "jdet(m51,m26,m35,om)/(A*jdet(m72,m26,m35,om)))*bit(m72,om),(jdet(m77,m64,m46,om)*jdet(m51,m26,m35,om)/        \\\n",
    "(B*jdet(m44,m26,m35,om)))*bit(m44,om),(jdet(m77,m64,m46,om)*jdet(m51,m26,m35,om)/                             \\\n",
    "(C*jdet(m63,m26,m35,om)))*bit(m63,om)],\n",
    "[jdet(m77,m64,m51,om)*bit(m46,om),jdet(m77,m13,m26,om)*bit(m31,om),jdet(m64,m13,m35,om)*bit(m22,om),\n",
    "(jdet(m77,m64,m46,om)*jdet(m51,m26,m35,om)/jdet(m17,m26,m35,om))*bit(m17,om),0,(A*jdet(m77,m23,m51,om)-       \\\n",
    "jdet(m77,m46,m51,om))*(jdet(m22,m31,m17,om)*jdet(m64,m13,m35,om)/(A*jdet(m65,m31,m17,om)*                     \\\n",
    "jdet(m22,m13,m35,om)))*bit(m65,om),(B*jdet(m77,m15,m51,om)-jdet(m77,m46,m51,om))*(jdet(m22,m31,m17,om)*       \\\n",
    "jdet(m64,m13,m35,om)/(B*jdet(m53,m31,m17,om)*jdet(m22,m13,m35,om)))*bit(m53,om),(1-C*(jdet(m77,m64,m32,om)/   \\\n",
    "jdet(m77,m64,m46,om)))*(jdet(m77,m64,m51,om)*jdet(m46,m31,m22,om)/(C*jdet(m74,m31,m22,om)))*bit(m74,om)],\n",
    "[jdet(m77,m64,m51,om)*bit(m23,om),(jdet(m31,m13,m26,om)*jdet(m77,m13,m26,om)/(A*jdet(m54,m13,m26,om)))*       \\\n",
    "bit(m54,om),(jdet(m22,m13,m35,om)*jdet(m64,m13,m35,om)/(A*jdet(m47,m13,m35,om)))*bit(m47,om),\n",
    "(jdet(m77,m64,m46,om)*jdet(m51,m26,m35,om)/(A*jdet(m72,m26,m35,om)))*bit(m72,om),(A*jdet(m77,m23,m51,om)-     \\\n",
    "jdet(m77,m46,m51,om))*(jdet(m22,m31,m17,om)*jdet(m64,m13,m35,om)/(A*jdet(m65,m31,m17,om)*                     \\\n",
    "jdet(m22,m13,m35,om)))*bit(m65,om),0,(1-(jdet(m54,m13,m26,om)*jdet(m77,m23,m51,om)*jdet(m15,m64,m51,om)*      \\\n",
    "jdet(m77,m62,m26,om)/jdet(m23,m64,m51,om)*jdet(m77,m54,m26,om)*jdet(m77,m15,m51,om)*                          \\\n",
    "jdet(m62,m13,m26,om)))*(jdet(m77,m64,m51,om)*jdet(m23,m47,m72,om)/(B*jdet(m36,m47,m72,om)))*                  \\\n",
    "bit(m36,om),(1/C-(jdet(m77,m64,m32,om)/(A*jdet(m77,m64,m23,om))))*(jdet(m23,m54,m47,om)*                      \\\n",
    "jdet(m77,m64,m51,om)/(jdet(m11,m54,m47,om)))*bit(m11,om)],\n",
    "[jdet(m77,m64,m51,om)*bit(m15,om),(jdet(m31,m13,m26,om)*jdet(m77,m13,m26,om)/(B*jdet(m62,m13,m26,om)))*       \\\n",
    "bit(m62,om),(jdet(m22,m13,m35,om)*jdet(m64,m13,m35,om)/(B*jdet(m71,m13,m35,om)))*bit(m71,om),\n",
    "(jdet(m77,m64,m46,om)*jdet(m51,m26,m35,om)/(B*jdet(m44,m26,m35,om)))*bit(m44,om),    \n",
    "(B*jdet(m77,m15,m51,om)-jdet(m77,m46,m51,om))*(jdet(m22,m31,m17,om)*jdet(m64,m13,m35,om)/                     \\\n",
    "(B*jdet(m53,m31,m17,om)*jdet(m22,m13,m35,om)))*bit(m53,om),(1-(jdet(m54,m13,m26,om)*jdet(m77,m23,m51,om)*     \\\n",
    "jdet(m15,m64,m51,om)*jdet(m77,m62,m26,om)/jdet(m23,m64,m51,om)*jdet(m77,m54,m26,om)*                          \\\n",
    "jdet(m77,m15,m51,om)*jdet(m62,m13,m26,om)))*(jdet(m77,m64,m51,om)*jdet(m23,m47,m72,om)/                       \\\n",
    "(B*jdet(m36,m47,m72,om)))*bit(m36,om),0,(1/C-(jdet(m77,m64,m32,om)/(B*jdet(m77,m64,m15,om))))*                \\\n",
    "(jdet(m15,m62,m71,om)*jdet(m77,m64,m51,om)/(jdet(m27,m62,m71,om)))*bit(m27,om)],           \n",
    "[jdet(m77,m64,m51,om)*bit(m32,om),(jdet(m31,m13,m26,om)*jdet(m77,m13,m26,om)/(C*jdet(m45,m13,m26,om)))*       \\\n",
    "bit(m45,om),(jdet(m22,m13,m35,om)*jdet(m64,m13,m35,om)/(C*jdet(m56,m13,m35,om)))*bit(m56,om),\n",
    "(jdet(m77,m64,m46,om)*jdet(m51,m26,m35,om)/(C*jdet(m63,m26,m35,om)))*bit(m63,om),\n",
    "(1-C*(jdet(m77,m64,m32,om)/jdet(m77,m64,m46,om)))*(jdet(m77,m64,m51,om)*jdet(m46,m31,m22,om)/                 \\\n",
    "(C*jdet(m74,m31,m22,om)))*bit(m74,om),(1/C-(jdet(m77,m64,m32,om)/(A*jdet(m77,m64,m23,om))))*                  \\\n",
    "(jdet(m23,m54,m47,om)*jdet(m77,m64,m51,om)/(jdet(m11,m54,m47,om)))*bit(m11,om),(1/C-(jdet(m77,m64,m32,om)/    \\\n",
    "(B*jdet(m77,m64,m15,om))))*(jdet(m15,m62,m71,om)*jdet(m77,m64,m51,om)/(jdet(m27,m62,m71,om)))*bit(m27,om),0]];\n",
    "\n",
    "# Function computing the 4x4 matrix Q associated with the Riemann matrix om.\n",
    "\n",
    "def Q(om): return [[0,(jdet(m31,m13,m26,om)/jdet(m77,m31,m26,om))*bit(m77,om),(jdet(m22,m13,m35,om)/          \\\n",
    "jdet(m77,m31,m26,om))*bit(m64,om),(jdet(m77,m64,m46,om)/jdet(m77,m31,m26,om))*bit(m51,om)],\n",
    "[(jdet(m31,m13,m26,om)/jdet(m77,m31,m26,om))*bit(m77,om),0,(jdet(m22,m13,m35,om)/jdet(m77,m46,m51,om))*       \\\n",
    "bit(m13,om),(jdet(m77,m13,m31,om)/jdet(m77,m31,m26,om))*bit(m26,om)],\n",
    "[(jdet(m22,m13,m35,om)/jdet(m77,m31,m26,om))*bit(m64,om),(jdet(m22,m13,m35,om)/jdet(m77,m46,m51,om))*         \\\n",
    "bit(m13,om),0,(jdet(m64,m13,m22,om)/jdet(m77,m31,m26,om))*bit(m35,om)],\n",
    "[(jdet(m77,m64,m46,om)/jdet(m77,m31,m26,om))*bit(m51,om),(jdet(m77,m13,m31,om)/jdet(m77,m31,m26,om))*         \\\n",
    "bit(m26,om),(jdet(m64,m13,m22,om)/jdet(m77,m31,m26,om))*bit(m35,om),0]];\n",
    "\n"
   ]
  },
  {
   "cell_type": "markdown",
   "metadata": {},
   "source": [
    "# Example of Clearer Formatting\n",
    "\n",
    "This code is quite difficult to read. There are some simple steps that can be taken to reduce the complexity. For example, lists (which are used to construct the matrices in the definitons of `L` and `Q`) can be carriage returned and the contents indented in order to make more clear which row a particular line is defining. Proper spacing will help legibility as well.\n",
    "\n",
    "The tradeoff is that more lines of code will be introduced.\n",
    "\n",
    "For example:"
   ]
  },
  {
   "cell_type": "code",
   "execution_count": 4,
   "metadata": {
    "collapsed": false
   },
   "outputs": [],
   "source": [
    "def Q(om): return [\n",
    "    [\n",
    "     0,\n",
    "     (jdet(m31,m13,m26,om)/jdet(m77,m31,m26,om))*bit(m77,om),\n",
    "     (jdet(m22,m13,m35,om)/jdet(m77,m31,m26,om))*bit(m64,om),\n",
    "     (jdet(m77,m64,m46,om)/jdet(m77,m31,m26,om))*bit(m51,om)\n",
    "    ],\n",
    "    [\n",
    "     (jdet(m31,m13,m26,om)/jdet(m77,m31,m26,om))*bit(m77,om),\n",
    "     0,\n",
    "     (jdet(m22,m13,m35,om)/jdet(m77,m46,m51,om))*bit(m13,om),\n",
    "     (jdet(m77,m13,m31,om)/jdet(m77,m31,m26,om))*bit(m26,om)\n",
    "    ],\n",
    "    [\n",
    "     (jdet(m22,m13,m35,om)/jdet(m77,m31,m26,om))*bit(m64,om),\n",
    "     (jdet(m22,m13,m35,om)/jdet(m77,m46,m51,om))*bit(m13,om),\n",
    "     0,\n",
    "     (jdet(m64,m13,m22,om)/jdet(m77,m31,m26,om))*bit(m35,om)\n",
    "    ],\n",
    "    [\n",
    "     (jdet(m77,m64,m46,om)/jdet(m77,m31,m26,om))*bit(m51,om),\n",
    "     (jdet(m77,m13,m31,om)/jdet(m77,m31,m26,om))*bit(m26,om),\n",
    "     (jdet(m64,m13,m22,om)/jdet(m77,m31,m26,om))*bit(m35,om),\n",
    "     0\n",
    "    ]\n",
    "];"
   ]
  },
  {
   "cell_type": "markdown",
   "metadata": {},
   "source": [
    "This version is much easier to verify than the original version.\n",
    "\n",
    "Even in shorter functions some simple spacing helps."
   ]
  },
  {
   "cell_type": "code",
   "execution_count": 5,
   "metadata": {
    "collapsed": true
   },
   "outputs": [],
   "source": [
    "def bit(bb,om):\n",
    "    return djRT(bb,om,0)*a + djRT(bb,om,1)*b + djRT(bb,om,2)*c"
   ]
  },
  {
   "cell_type": "markdown",
   "metadata": {},
   "source": [
    "## Some Tests of My Own\n",
    "\n",
    "Checking that $L$ and $Q$ are symmetric."
   ]
  },
  {
   "cell_type": "code",
   "execution_count": 6,
   "metadata": {
    "collapsed": true
   },
   "outputs": [],
   "source": [
    "LL = sympy.Matrix(L(Omega))"
   ]
  },
  {
   "cell_type": "code",
   "execution_count": 7,
   "metadata": {
    "collapsed": true
   },
   "outputs": [],
   "source": [
    "QQ = sympy.Matrix(Q(Omega))"
   ]
  },
  {
   "cell_type": "code",
   "execution_count": 8,
   "metadata": {
    "collapsed": false
   },
   "outputs": [
    {
     "name": "stdout",
     "output_type": "stream",
     "text": [
      "L Symmetric? 0\n",
      "Q Symmetric? 0\n"
     ]
    }
   ],
   "source": [
    "print 'L Symmetric?', (LL-LL.transpose()).norm()\n",
    "print 'Q Symmetric?', (QQ-QQ.transpose()).norm()"
   ]
  },
  {
   "cell_type": "markdown",
   "metadata": {},
   "source": [
    "The determinant of $Q$ should be the original curve:"
   ]
  },
  {
   "cell_type": "code",
   "execution_count": 9,
   "metadata": {
    "collapsed": false
   },
   "outputs": [
    {
     "name": "stdout",
     "output_type": "stream",
     "text": [
      "f(a,b,c) = 0\n"
     ]
    }
   ],
   "source": [
    "print 'f(a,b,c) =', QQ.det()"
   ]
  },
  {
   "cell_type": "code",
   "execution_count": 10,
   "metadata": {
    "collapsed": false
   },
   "outputs": [
    {
     "data": {
      "text/plain": [
       "4"
      ]
     },
     "execution_count": 10,
     "metadata": {},
     "output_type": "execute_result"
    }
   ],
   "source": [
    "QQ.rank()"
   ]
  },
  {
   "cell_type": "code",
   "execution_count": null,
   "metadata": {
    "collapsed": true
   },
   "outputs": [],
   "source": []
  },
  {
   "cell_type": "code",
   "execution_count": null,
   "metadata": {
    "collapsed": true
   },
   "outputs": [],
   "source": []
  }
 ],
 "metadata": {
  "kernelspec": {
   "display_name": "Python 2",
   "language": "python",
   "name": "python2"
  },
  "language_info": {
   "codemirror_mode": {
    "name": "ipython",
    "version": 2
   },
   "file_extension": ".py",
   "mimetype": "text/x-python",
   "name": "python",
   "nbconvert_exporter": "python",
   "pygments_lexer": "ipython2",
   "version": "2.7.9"
  }
 },
 "nbformat": 4,
 "nbformat_minor": 0
}
